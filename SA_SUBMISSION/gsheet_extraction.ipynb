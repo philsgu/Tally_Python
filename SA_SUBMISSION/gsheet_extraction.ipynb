{
 "cells": [
  {
   "cell_type": "code",
   "execution_count": 1,
   "metadata": {},
   "outputs": [],
   "source": [
    "import pandas as pd\n",
    "import gspread\n",
    "from fuzzywuzzy import fuzz, process"
   ]
  },
  {
   "cell_type": "code",
   "execution_count": 2,
   "metadata": {},
   "outputs": [],
   "source": [
    "# service account json credentials \n",
    "SERVICE_ACCOUNT_FILE = 'accesspysheet-bd152702637a.json'\n",
    "# Authenticate with the Google Sheets API\n",
    "gc = gspread.service_account(filename=SERVICE_ACCOUNT_FILE)"
   ]
  },
  {
   "cell_type": "code",
   "execution_count": 3,
   "metadata": {},
   "outputs": [],
   "source": [
    "# Open the Google Sheet by URL\n",
    "SHEET_URL = \"https://docs.google.com/spreadsheets/d/1h4HlBY1_vOAuFmWQxTgHRr3075wgfxfroIWmHZm4b98/edit?gid=0#gid=0\"\n",
    "sh = gc.open_by_url(SHEET_URL)"
   ]
  },
  {
   "cell_type": "code",
   "execution_count": 4,
   "metadata": {},
   "outputs": [],
   "source": [
    "\n",
    "# Select the first worksheet\n",
    "worksheet = sh.get_worksheet(0)\n",
    "\n",
    "# Extract all data as a list of lists\n",
    "data = worksheet.get_all_values()\n",
    "\n",
    "# Convert to a Pandas DataFrame\n",
    "df = pd.DataFrame(data[1:], columns=data[0])\n",
    "\n"
   ]
  },
  {
   "cell_type": "code",
   "execution_count": 5,
   "metadata": {},
   "outputs": [],
   "source": [
    "# Convert the 'Submitted at' column to datetime\n",
    "df['Submitted at'] = pd.to_datetime(df['Submitted at'], format='%Y-%m-%d %H:%M:%S', errors='coerce')"
   ]
  },
  {
   "cell_type": "code",
   "execution_count": 6,
   "metadata": {},
   "outputs": [
    {
     "name": "stdout",
     "output_type": "stream",
     "text": [
      "datetime64[ns]\n"
     ]
    }
   ],
   "source": [
    "# Verify the conversion\n",
    "print(df['Submitted at'].dtype)  # Should now show 'datetime64[ns]'\n"
   ]
  },
  {
   "cell_type": "code",
   "execution_count": 7,
   "metadata": {},
   "outputs": [],
   "source": [
    "df = df.drop_duplicates(subset=df.columns[0])"
   ]
  },
  {
   "cell_type": "code",
   "execution_count": 8,
   "metadata": {},
   "outputs": [],
   "source": [
    "# Ensure the 'working title' column is treated as strings\n",
    "df['What is your working project title?'] = df['What is your working project title?'].astype(str)"
   ]
  },
  {
   "cell_type": "code",
   "execution_count": 9,
   "metadata": {},
   "outputs": [],
   "source": [
    "# Function to check fuzzy matches for duplicates in the 3rd column\n",
    "def find_fuzzy_duplicates(df, column_index, threshold=90):\n",
    "    duplicate_rows = []\n",
    "    for i, value1 in enumerate(df.iloc[:, column_index]):\n",
    "        for j, value2 in enumerate(df.iloc[:, column_index]):\n",
    "            if i < j and fuzz.ratio(value1, value2) >= threshold:\n",
    "                duplicate_rows.append(i)\n",
    "                duplicate_rows.append(j)\n",
    "    return df.iloc[duplicate_rows].drop_duplicates()"
   ]
  },
  {
   "cell_type": "code",
   "execution_count": 10,
   "metadata": {},
   "outputs": [
    {
     "data": {
      "text/html": [
       "<div><div id=ae4b83a5-626d-49c8-9164-4fd0f8356519 style=\"display:none; background-color:#9D6CFF; color:white; width:200px; height:30px; padding-left:5px; border-radius:4px; flex-direction:row; justify-content:space-around; align-items:center;\" onmouseover=\"this.style.backgroundColor='#BA9BF8'\" onmouseout=\"this.style.backgroundColor='#9D6CFF'\" onclick=\"window.commands?.execute('create-mitosheet-from-dataframe-output');\">See Full Dataframe in Mito</div> <script> if (window.commands?.hasCommand('create-mitosheet-from-dataframe-output')) document.getElementById('ae4b83a5-626d-49c8-9164-4fd0f8356519').style.display = 'flex' </script> <table border=\"1\" class=\"dataframe\">\n",
       "  <thead>\n",
       "    <tr style=\"text-align: right;\">\n",
       "      <th></th>\n",
       "      <th>Submission ID</th>\n",
       "      <th>Respondent ID</th>\n",
       "      <th>Submitted at</th>\n",
       "      <th>What is your working project title?</th>\n",
       "      <th>Project Leader</th>\n",
       "      <th>Other Project Members?</th>\n",
       "      <th>What is your email address?</th>\n",
       "      <th>What is your best contact number?</th>\n",
       "      <th>Which Department do you belong to? (Please choose ONE)</th>\n",
       "      <th>What is your staffing role? (Please choose ONE)</th>\n",
       "      <th>...</th>\n",
       "      <th>Protocol Required Elements</th>\n",
       "      <th>Protocol Required Elements (Check here to view document and download)</th>\n",
       "      <th>New Study Submission Checklist (optional info)</th>\n",
       "      <th>New Study Submission Checklist (optional info) (Check here to view document and download)</th>\n",
       "      <th>Request Preview to PHI for Trinity Health Network on EPIC (good for data scrubbing prior to IRB approval)</th>\n",
       "      <th>Request Preview to PHI for Trinity Health Network on EPIC (good for data scrubbing prior to IRB approval) (Check here to view document and download)</th>\n",
       "      <th>Will you submit this project for the upcoming SAMC's Annual Research Poster Day?</th>\n",
       "      <th>Published or submitting for peer reviewed publication?</th>\n",
       "      <th>Please submit supporting documents (PDF, DOC, PPT) that you are reporting</th>\n",
       "      <th>For verification purposes, please sign below using mouse or touch (mobile)</th>\n",
       "    </tr>\n",
       "  </thead>\n",
       "  <tbody>\n",
       "  </tbody>\n",
       "</table></div>"
      ],
      "text/plain": [
       "Empty DataFrame\n",
       "Columns: [Submission ID, Respondent ID, Submitted at, What is your working project title?, Project Leader, Other Project Members?, What is your email address?, What is your best contact number?, Which Department do you belong to? (Please choose ONE), What is your staffing role? (Please choose ONE), Is this a NEW scholarly activity project that you are submitting performed under SAMC GME?, Please select the category of scholarly activity that you wish to report performed under SAMC GME?, Was this or in the process of submission to IRB ?, When was this project started/completed?, Is this project a Quality Improvement (QI), Research, or Case Report (Please choose ONE) , How does QI differ from research?, How does QI differ from research? (Check here to view document and download), CATEGORY, EMAIL CASE TITLE, EMAIL CASE LINK, EMAIL IRB TITLE, EMAIL IRB 1 TXT, EMAIL IRB 2 TXT, EMAIL IRB 3 TXT, EMAIL IRB 4 TXT, EMAIL IRB 5 TXT, QI Template Guide, QI Template Guide (Please check here to view and download), The aim(s) of the project is to improve the process of delivery of care with established/accepted quality standards:\n",
       "- To implement change according to mandates or the hospital's clinical quality improvement programs OR\n",
       "- To implement change that is consistent with current\n",
       "best evidence\n",
       "\n",
       ", The project involves implementation of:\n",
       "- Established and tested quality standards and/or systematic monitor, assessment or evaluation of the organization to ensure that existing quality standards are being met. OR\n",
       "\n",
       "- New care practices and interventions that are consensus-based or evidence-based. \n",
       ", The project is conducted by staff at the project site and involves staff, patients, and their families at that location\n",
       "\n",
       ", The clinical practice unit (hospital, clinic, division, or care group) agrees that this is a QI project/EBP process that will be implemented to improve the process of delivery or care (i.e. not personal research that is dependent upon the voluntary participation of colleagues, students and/or patients) \n",
       "\n",
       ", Is there an intent to publish this QI project to peer review journal(s)? \n",
       ", The project is designed to answer a research question or test a hypothesis and is intended to develop or contribute to generalizable knowledge., The project follows a research design (hypothesis testing or group comparison, randomization, control groups, prospective comparison groups, cross-sectional, case-control)., The project follows a protocol that overrides clinical decision making., The project develops paradigms or untested methods or new untested standards., The project has funding from federal agencies or research focused organizations and is receiving funding for implementation of research., What does the study involve? (Please choose one), Information obtained is recorded by the investigator in such a manner that the identity of the human subjects cannot readily be ascertained directly or through identifiers linked to the subjects; AND\n",
       "If children are participants, the procedures are limited to the use of educational tests or the observation of public behavior when the investigator(s) do not participate in the activities being observed.\n",
       ", Any disclosure of the Human Subjects’ responses outside the research would not reasonably place the subjects at risk of criminal or civil liability or be damaging to the subjects’ financial standing, employability, educational advancement, or reputation AND &nbsp;\n",
       "\n",
       "If children are participants, the procedures are limited to the use of educational tests or the observation of public behavior when the investigator(s) do not participate in the activities being observed.\n",
       ", The information obtained is recorded by the investigator in such a manner that the identity of the human subjects can readily be ascertained, directly or through identifiers linked to the subjects and an IRB conducts a limited IRB review AND \n",
       "\n",
       "No children are participants.\n",
       ", YOU SELECTED N/A ON ALL OPTIONS ABOVE, PLEASE CHOOSE THE FOLLOWING: \n",
       ", Please choose at LEAST one or more options below:, Please choose at LEAST one or more options below: (The information obtained is recorded by the investigator in such a manner that the identity of the human participants cannot readily be ascertained, directly or through identifiers linked to the participants), Please choose at LEAST one or more options below: (Any disclosure of the human participants’ responses outside the research would not reasonably place the participants at risk of criminal or civil liability or be damaging to the participants’ financial standing, employability, educational advancement, reputation), Please choose at LEAST one or more options below: (The information obtained is recorded by the investigator in such a manner that the identity of the human participants can readily be ascertained, directly or through identifiers linked to the subjects), Does the research involve deceiving the participants regarding the nature of or purposes of the research?\n",
       ", Will participants authorize the deception through a prospective agreement to be in research in circumstances in which the participant is informed that he or she will be unaware of or misled regarding the nature or purposes of the research?, Behavioral Informed Consent Template Instruction, Behavioral Informed Consent Template Instruction (Check here to view and download), Secondary research uses of identifiable private information or\n",
       "identifiable biospecimens, if at least ONE of the following criteria are met:\n",
       ", Secondary research uses of identifiable private information or\n",
       "identifiable biospecimens, if at least ONE of the following criteria are met:\n",
       " (The identifiable private information or identifiable biospecimens are publicly available), Secondary research uses of identifiable private information or\n",
       "identifiable biospecimens, if at least ONE of the following criteria are met:\n",
       " (Information, which may include information about biospecimens (but not include the biospecimens themselves), is recorded by the investigator in such a manner that the identity of the human subjects cannot be readily ascertained directly or through identifiers linked to the subjects, the investigator does not contact the subjects, and the investigator will not re-identify subjects), Secondary research uses of identifiable private information or\n",
       "identifiable biospecimens, if at least ONE of the following criteria are met:\n",
       " (The research involves only information (no biospecimens) collection and analysis involving the investigators use of identifiable health information), Secondary research uses of identifiable private information or\n",
       "identifiable biospecimens, if at least ONE of the following criteria are met:\n",
       " (The research is conducted by, or on behalf of, a federal department or agency using government-generated or government-collected information obtained for non-research activities.  [If the research generates identifiable private information that is or will be maintained on information technology that is subject to and in compliance with section 208(b) of the E-Government Act of 2002, 44 U.S.C. 3501 note if all of the identifiable health information collected, used, or generated as part of the activity will be maintained in systems of records subject to the Privacy Act of 1974, 5 U.S.C. 552a, and, if applicable, the information used in the research was collected subject to the Paperwork Reduction Act of 1995, 44 U.S.C. 3501 et seq.]), Taste and food quality evaluation and consumer acceptance studies (please pick one):\n",
       ", Taste and food quality evaluation and consumer acceptance studies (please pick one):\n",
       " (If wholesome foods without additives are consumed.), Taste and food quality evaluation and consumer acceptance studies (please pick one):\n",
       " (If a food is consumed that contains a food ingredient at or below the level and for a use found to be safe, or agricultural chemical or environmental contaminant at or below the level found to be safe, by the Food and Drug Administration or approved by the Environmental Protection Agency or the Food Safety and Inspection Service of the U.S. Department of Agriculture.), Please choose the following expedited categories (Select all that apply), Please choose the following expedited categories (Select all that apply) (Clinical studies of drugs when an IND is not required.), Please choose the following expedited categories (Select all that apply) (Clinical studies of medical devices when an IDE is not required, or the medical device is cleared/approved for marketing and the medical device is being used in accordance with its cleared/approved labeling.), Please choose the following expedited categories (Select all that apply) (Collection of blood samples by finger stick, heel stick, ear stick, or venipuncture(i) from healthy, non-pregnant adults who weigh >110 pounds where the amount drawn does not exceed 550 ml in an 8-week period and collection occurs no more frequently than 2 times per week(ii).), Please choose the following expedited categories (Select all that apply) (Collection of blood samples by finger stick, heel stick, ear stick, or venipuncture(ii) from other adults and children, considering the age, weight, and health of the subjects, the collection procedure, the amount of blood to be collected may not exceed 50 ml or 3 ml per kg in an 8-week period, and collection occurs no more frequently than 2 times per week(iii).), Please choose the following expedited categories (Select all that apply) (Prospective collection of biological specimens for research purposes by noninvasive (iii) means(iv).   (Examples:  placenta removed at delivery; sputum collected after saline mist nebulization; mucosal and skin cells collected by buccal scraping or swab, or mouth washings; hair and nail clippings in a non-disfiguring manner).), Please choose the following expedited categories (Select all that apply) (Collection of data through noninvasive procedures(iv) (not involving general anesthesia or sedation) routinely employed in clinical practice, excluding procedures involving x-rays or microwaves. Where medical devices are employed, they must be cleared/approved for marketing(v).   (Examples:  weighing or testing sensory acuity, MRIs, ECGs, ultrasound, moderate exercise; muscle strength testing).), Please choose the following expedited categories (Select all that apply) (Research involving materials (data, documents, records, or specimens) that have been collected for any purpose or will be collected solely for non-research purposes.), Please choose the following expedited categories (Select all that apply) (Collection of data from voice, video, digital, or image recordings made for research purposes.), Please choose the following expedited categories (Select all that apply) (Research on individual or group characteristics or behavior(vi) (Examples:  research on perception, cognition, motivation, identity, communication, social behavior, beliefs) OR research employing survey, interview, oral history, focus group, program evaluation, human factors evaluation, or quality assurance methodologies that did not meet an exemption category.), Please choose the following expedited categories (Select all that apply) (Continuing review of research previously approved by the convened IRB where (1) the research is permanently closed to the enrollment of new subjects; (2) all subjects have completed all research-related interventions; and (3) the research remains active only for long-term follow-up of subjects. (For a multi-center protocol, an expedited review procedure may be used by the IRB at a particular site whenever these conditions are satisfied for that site.)), Please choose the following expedited categories (Select all that apply) (Continuing review of research previously approved by the convened IRB where no subjects have ever been enrolled at a particular site and neither the investigator nor the IRB at a particular site has identified any additional risks from any site or other relevant source.), Please choose the following expedited categories (Select all that apply) (Continuing Review of Research where the remaining research activities are limited to data analysis.), Please choose the following expedited categories (Select all that apply) (Continuing review of research, not conducted under an investigational new drug application or investigational device exemption where categories two (2) through eight (8) do not apply but the IRB has determined and documented at a convened meeting that the research involves no greater than minimal risk and no additional risks have been identified.), Please choose the following expedited categories (Select all that apply) (NONE OF THE ABOVE), case_agreement, case_agreement (Check here that you will agree to obtain patient consent and remove any patient identifiers for transmission/submission of data), IRB EXEMPT MEDICAL Research Inform Consent Form Template, IRB EXEMPT MEDICAL Research Inform Consent Form Template (Check here to view document and download), Protocol Required Elements, Protocol Required Elements (Check here to view document and download), New Study Submission Checklist (optional info), New Study Submission Checklist (optional info) (Check here to view document and download), Request Preview to PHI for Trinity Health Network on EPIC (good for data scrubbing prior to IRB approval), Request Preview to PHI for Trinity Health Network on EPIC (good for data scrubbing prior to IRB approval) (Check here to view document and download), Will you submit this project for the upcoming SAMC's Annual Research Poster Day?, Published or submitting for peer reviewed publication?, Please submit supporting documents (PDF, DOC, PPT) that you are reporting, For verification purposes, please sign below using mouse or touch (mobile)]\n",
       "Index: []\n",
       "\n",
       "[0 rows x 88 columns]"
      ]
     },
     "execution_count": 10,
     "metadata": {},
     "output_type": "execute_result"
    }
   ],
   "source": [
    "# Find fuzzy duplicates in the 'working title' column\n",
    "duplicate_pairs = find_fuzzy_duplicates(df, 3, threshold=90)\n",
    "duplicate_pairs"
   ]
  },
  {
   "cell_type": "markdown",
   "metadata": {},
   "source": [
    "# Total Count for Research Day Submission"
   ]
  },
  {
   "cell_type": "code",
   "execution_count": 11,
   "metadata": {},
   "outputs": [
    {
     "name": "stdout",
     "output_type": "stream",
     "text": [
      "63\n"
     ]
    }
   ],
   "source": [
    "count_yes = df[df.iloc[:, 84] == \"YES\"].shape[0]\n",
    "print(count_yes)"
   ]
  },
  {
   "cell_type": "code",
   "execution_count": 19,
   "metadata": {
    "vscode": {
     "languageId": "ruby"
    }
   },
   "outputs": [
    {
     "data": {
      "text/html": [
       "<div><div id=fecaa096-72bc-4d85-bb6d-a0d33a293f3b style=\"display:none; background-color:#9D6CFF; color:white; width:200px; height:30px; padding-left:5px; border-radius:4px; flex-direction:row; justify-content:space-around; align-items:center;\" onmouseover=\"this.style.backgroundColor='#BA9BF8'\" onmouseout=\"this.style.backgroundColor='#9D6CFF'\" onclick=\"window.commands?.execute('create-mitosheet-from-dataframe-output');\">See Full Dataframe in Mito</div> <script> if (window.commands?.hasCommand('create-mitosheet-from-dataframe-output')) document.getElementById('fecaa096-72bc-4d85-bb6d-a0d33a293f3b').style.display = 'flex' </script> <table border=\"1\" class=\"dataframe\">\n",
       "  <thead>\n",
       "    <tr>\n",
       "      <th>Please select the category of scholarly activity that you wish to report performed under SAMC GME?</th>\n",
       "      <th colspan=\"3\" halign=\"left\"></th>\n",
       "      <th>Research</th>\n",
       "    </tr>\n",
       "    <tr>\n",
       "      <th>Is this project a Quality Improvement (QI), Research, or Case Report (Please choose ONE)</th>\n",
       "      <th>Case Report</th>\n",
       "      <th>QI</th>\n",
       "      <th>Research</th>\n",
       "      <th></th>\n",
       "    </tr>\n",
       "    <tr>\n",
       "      <th>Which Department do you belong to? (Please choose ONE)</th>\n",
       "      <th></th>\n",
       "      <th></th>\n",
       "      <th></th>\n",
       "      <th></th>\n",
       "    </tr>\n",
       "  </thead>\n",
       "  <tbody>\n",
       "    <tr>\n",
       "      <th>Emergency Medicine</th>\n",
       "      <td>4.0</td>\n",
       "      <td>0.0</td>\n",
       "      <td>3.0</td>\n",
       "      <td>0.0</td>\n",
       "    </tr>\n",
       "    <tr>\n",
       "      <th>Family Medicine</th>\n",
       "      <td>6.0</td>\n",
       "      <td>4.0</td>\n",
       "      <td>0.0</td>\n",
       "      <td>0.0</td>\n",
       "    </tr>\n",
       "    <tr>\n",
       "      <th>Internal Medicine</th>\n",
       "      <td>24.0</td>\n",
       "      <td>17.0</td>\n",
       "      <td>2.0</td>\n",
       "      <td>0.0</td>\n",
       "    </tr>\n",
       "    <tr>\n",
       "      <th>Transitional Medicine</th>\n",
       "      <td>2.0</td>\n",
       "      <td>0.0</td>\n",
       "      <td>0.0</td>\n",
       "      <td>4.0</td>\n",
       "    </tr>\n",
       "  </tbody>\n",
       "</table></div>"
      ],
      "text/plain": [
       "Please select the category of scholarly activity that you wish to report performed under SAMC GME?              \\\n",
       "Is this project a Quality Improvement (QI), Research, or Case Report (Please choose ONE)           Case Report   \n",
       "Which Department do you belong to? (Please choo...                                                               \n",
       "Emergency Medicine                                                                                         4.0   \n",
       "Family Medicine                                                                                            6.0   \n",
       "Internal Medicine                                                                                         24.0   \n",
       "Transitional Medicine                                                                                      2.0   \n",
       "\n",
       "Please select the category of scholarly activity that you wish to report performed under SAMC GME?        \\\n",
       "Is this project a Quality Improvement (QI), Research, or Case Report (Please choose ONE)              QI   \n",
       "Which Department do you belong to? (Please choo...                                                         \n",
       "Emergency Medicine                                                                                   0.0   \n",
       "Family Medicine                                                                                      4.0   \n",
       "Internal Medicine                                                                                   17.0   \n",
       "Transitional Medicine                                                                                0.0   \n",
       "\n",
       "Please select the category of scholarly activity that you wish to report performed under SAMC GME?           \\\n",
       "Is this project a Quality Improvement (QI), Research, or Case Report (Please choose ONE)           Research   \n",
       "Which Department do you belong to? (Please choo...                                                            \n",
       "Emergency Medicine                                                                                      3.0   \n",
       "Family Medicine                                                                                         0.0   \n",
       "Internal Medicine                                                                                       2.0   \n",
       "Transitional Medicine                                                                                   0.0   \n",
       "\n",
       "Please select the category of scholarly activity that you wish to report performed under SAMC GME? Research  \n",
       "Is this project a Quality Improvement (QI), Research, or Case Report (Please choose ONE)                     \n",
       "Which Department do you belong to? (Please choo...                                                           \n",
       "Emergency Medicine                                                                                      0.0  \n",
       "Family Medicine                                                                                         0.0  \n",
       "Internal Medicine                                                                                       0.0  \n",
       "Transitional Medicine                                                                                   4.0  "
      ]
     },
     "execution_count": 19,
     "metadata": {},
     "output_type": "execute_result"
    }
   ],
   "source": [
    "# Group by department and the unique values in column index 11 and 14\n",
    "grouped_df = df.groupby([df.columns[8], df.columns[11], df.columns[14]]).size().reset_index(name='Total Count')\n",
    "\n",
    "# Pivot the table to get a better view\n",
    "pivot_df = grouped_df.pivot_table(index=df.columns[8], columns=[df.columns[11], df.columns[14]], values='Total Count', fill_value=0)\n",
    "\n",
    "pivot_df"
   ]
  },
  {
   "cell_type": "code",
   "execution_count": null,
   "metadata": {},
   "outputs": [],
   "source": [
    "# Filter the original dataframe to only include rows where the submission for research day is \"YES\"\n",
    "df_yes = df[df['Will you submit this project for the upcoming SAMC\\'s Annual Research Poster Day?'] == 'YES']\n",
    "\n",
    "# Group by department and the unique values in column index 11 and 14\n",
    "grouped_df_yes = df_yes.groupby([df_yes.columns[8], df_yes.columns[11], df_yes.columns[14]]).size().reset_index(name='Total Count')\n",
    "\n",
    "# Pivot the table to get a better view\n",
    "pivot_df_yes = grouped_df_yes.pivot_table(index=df_yes.columns[8], columns=[df_yes.columns[11], df_yes.columns[14]], values='Total Count', fill_value=0)\n",
    "\n",
    "# Add a new column 'Total' to get the total count for each department\n",
    "pivot_df_yes['Total'] = pivot_df_yes.sum(axis=1)\n",
    "\n",
    "pivot_df_yes"
   ]
  },
  {
   "cell_type": "code",
   "execution_count": 22,
   "metadata": {},
   "outputs": [
    {
     "data": {
      "text/html": [
       "<div><div id=c8da2c32-a37b-413d-81cb-d601f5b7a47a style=\"display:none; background-color:#9D6CFF; color:white; width:200px; height:30px; padding-left:5px; border-radius:4px; flex-direction:row; justify-content:space-around; align-items:center;\" onmouseover=\"this.style.backgroundColor='#BA9BF8'\" onmouseout=\"this.style.backgroundColor='#9D6CFF'\" onclick=\"window.commands?.execute('create-mitosheet-from-dataframe-output');\">See Full Dataframe in Mito</div> <script> if (window.commands?.hasCommand('create-mitosheet-from-dataframe-output')) document.getElementById('c8da2c32-a37b-413d-81cb-d601f5b7a47a').style.display = 'flex' </script> <table border=\"1\" class=\"dataframe\">\n",
       "  <thead>\n",
       "    <tr>\n",
       "      <th>Please select the category of scholarly activity that you wish to report performed under SAMC GME?</th>\n",
       "      <th colspan=\"3\" halign=\"left\"></th>\n",
       "      <th>Research</th>\n",
       "      <th>Total</th>\n",
       "    </tr>\n",
       "    <tr>\n",
       "      <th>Is this project a Quality Improvement (QI), Research, or Case Report (Please choose ONE)</th>\n",
       "      <th>Case Report</th>\n",
       "      <th>QI</th>\n",
       "      <th>Research</th>\n",
       "      <th></th>\n",
       "      <th></th>\n",
       "    </tr>\n",
       "    <tr>\n",
       "      <th>Which Department do you belong to? (Please choose ONE)</th>\n",
       "      <th></th>\n",
       "      <th></th>\n",
       "      <th></th>\n",
       "      <th></th>\n",
       "      <th></th>\n",
       "    </tr>\n",
       "  </thead>\n",
       "  <tbody>\n",
       "    <tr>\n",
       "      <th>Emergency Medicine</th>\n",
       "      <td>4</td>\n",
       "      <td>0</td>\n",
       "      <td>3</td>\n",
       "      <td>0</td>\n",
       "      <td>7</td>\n",
       "    </tr>\n",
       "    <tr>\n",
       "      <th>Family Medicine</th>\n",
       "      <td>6</td>\n",
       "      <td>2</td>\n",
       "      <td>0</td>\n",
       "      <td>0</td>\n",
       "      <td>8</td>\n",
       "    </tr>\n",
       "    <tr>\n",
       "      <th>Internal Medicine</th>\n",
       "      <td>24</td>\n",
       "      <td>16</td>\n",
       "      <td>2</td>\n",
       "      <td>0</td>\n",
       "      <td>42</td>\n",
       "    </tr>\n",
       "    <tr>\n",
       "      <th>Transitional Medicine</th>\n",
       "      <td>2</td>\n",
       "      <td>0</td>\n",
       "      <td>0</td>\n",
       "      <td>4</td>\n",
       "      <td>6</td>\n",
       "    </tr>\n",
       "  </tbody>\n",
       "</table></div>"
      ],
      "text/plain": [
       "Please select the category of scholarly activity that you wish to report performed under SAMC GME?              \\\n",
       "Is this project a Quality Improvement (QI), Research, or Case Report (Please choose ONE)           Case Report   \n",
       "Which Department do you belong to? (Please choo...                                                               \n",
       "Emergency Medicine                                                                                           4   \n",
       "Family Medicine                                                                                              6   \n",
       "Internal Medicine                                                                                           24   \n",
       "Transitional Medicine                                                                                        2   \n",
       "\n",
       "Please select the category of scholarly activity that you wish to report performed under SAMC GME?      \\\n",
       "Is this project a Quality Improvement (QI), Research, or Case Report (Please choose ONE)            QI   \n",
       "Which Department do you belong to? (Please choo...                                                       \n",
       "Emergency Medicine                                                                                   0   \n",
       "Family Medicine                                                                                      2   \n",
       "Internal Medicine                                                                                   16   \n",
       "Transitional Medicine                                                                                0   \n",
       "\n",
       "Please select the category of scholarly activity that you wish to report performed under SAMC GME?           \\\n",
       "Is this project a Quality Improvement (QI), Research, or Case Report (Please choose ONE)           Research   \n",
       "Which Department do you belong to? (Please choo...                                                            \n",
       "Emergency Medicine                                                                                        3   \n",
       "Family Medicine                                                                                           0   \n",
       "Internal Medicine                                                                                         2   \n",
       "Transitional Medicine                                                                                     0   \n",
       "\n",
       "Please select the category of scholarly activity that you wish to report performed under SAMC GME? Research  \\\n",
       "Is this project a Quality Improvement (QI), Research, or Case Report (Please choose ONE)                      \n",
       "Which Department do you belong to? (Please choo...                                                            \n",
       "Emergency Medicine                                                                                        0   \n",
       "Family Medicine                                                                                           0   \n",
       "Internal Medicine                                                                                         0   \n",
       "Transitional Medicine                                                                                     4   \n",
       "\n",
       "Please select the category of scholarly activity that you wish to report performed under SAMC GME? Total  \n",
       "Is this project a Quality Improvement (QI), Research, or Case Report (Please choose ONE)                  \n",
       "Which Department do you belong to? (Please choo...                                                        \n",
       "Emergency Medicine                                                                                     7  \n",
       "Family Medicine                                                                                        8  \n",
       "Internal Medicine                                                                                     42  \n",
       "Transitional Medicine                                                                                  6  "
      ]
     },
     "execution_count": 22,
     "metadata": {},
     "output_type": "execute_result"
    }
   ],
   "source": [
    "pivot_df_yes = pivot_df_yes.astype(int)\n",
    "pivot_df_yes"
   ]
  }
 ],
 "metadata": {
  "kernelspec": {
   "display_name": "UV Virtual Environment",
   "language": "python",
   "name": "uv_env"
  },
  "language_info": {
   "codemirror_mode": {
    "name": "ipython",
    "version": 3
   },
   "file_extension": ".py",
   "mimetype": "text/x-python",
   "name": "python",
   "nbconvert_exporter": "python",
   "pygments_lexer": "ipython3",
   "version": "3.10.4"
  }
 },
 "nbformat": 4,
 "nbformat_minor": 2
}
